{
  "nbformat": 4,
  "nbformat_minor": 0,
  "metadata": {
    "colab": {
      "name": "Numpy and Pandas Introduction.ipynb",
      "provenance": [],
      "collapsed_sections": [],
      "toc_visible": true,
      "authorship_tag": "ABX9TyP2UDJLh+J/XwaT2e9IAFji",
      "include_colab_link": true
    },
    "kernelspec": {
      "name": "python3",
      "display_name": "Python 3"
    },
    "language_info": {
      "name": "python"
    }
  },
  "cells": [
    {
      "cell_type": "markdown",
      "metadata": {
        "id": "view-in-github",
        "colab_type": "text"
      },
      "source": [
        "<a href=\"https://colab.research.google.com/github/narcisoleedev/data_analysis_learning/blob/main/Numpy_and_Pandas_Introduction.ipynb\" target=\"_parent\"><img src=\"https://colab.research.google.com/assets/colab-badge.svg\" alt=\"Open In Colab\"/></a>"
      ]
    },
    {
      "cell_type": "markdown",
      "metadata": {
        "id": "b8enYsTNff_u"
      },
      "source": [
        "#Numpy Training\n",
        "From: Guilherme N. Lee\n"
      ]
    },
    {
      "cell_type": "markdown",
      "metadata": {
        "id": "oigVcGijgv3w"
      },
      "source": [
        "## Why Numpy\n",
        "  Numpy is a python library that helps you optimize numbers memory storing using C tricks, which helps a lot on processing of Big Data. For example, you can optimize a variable to receive an int of size 8 (bytes) instead of 20 (bytes) as usually Python does, due to it's being high level programming language. For more information, see: Binary Arythmetic."
      ]
    },
    {
      "cell_type": "code",
      "metadata": {
        "id": "pD6wU9H8hDjo"
      },
      "source": [
        "import numpy as np\n",
        "import sys"
      ],
      "execution_count": null,
      "outputs": []
    },
    {
      "cell_type": "markdown",
      "metadata": {
        "id": "824s5bv0o2tf"
      },
      "source": [
        "For more information, see: Free Code Camp's Numpy Notebook."
      ]
    },
    {
      "cell_type": "code",
      "metadata": {
        "colab": {
          "base_uri": "https://localhost:8080/"
        },
        "id": "0oea5U7khxa2",
        "outputId": "dda87c57-0fb9-4b4a-a274-0ae94e5b013f"
      },
      "source": [
        "#An array\n",
        "ar = np.array([1, 2, 3, 4])\n",
        "ar[0], ar[1]"
      ],
      "execution_count": null,
      "outputs": [
        {
          "output_type": "execute_result",
          "data": {
            "text/plain": [
              "(1, 2)"
            ]
          },
          "metadata": {},
          "execution_count": 209
        }
      ]
    },
    {
      "cell_type": "code",
      "metadata": {
        "colab": {
          "base_uri": "https://localhost:8080/"
        },
        "id": "9hLK0-EujvgN",
        "outputId": "cd38f0f4-dc78-491d-e2ea-417eceded824"
      },
      "source": [
        "bar = np.array([[1,2,3,4],[4,5,6,7]])\n",
        "bar.size"
      ],
      "execution_count": null,
      "outputs": [
        {
          "output_type": "execute_result",
          "data": {
            "text/plain": [
              "8"
            ]
          },
          "metadata": {},
          "execution_count": 210
        }
      ]
    },
    {
      "cell_type": "code",
      "metadata": {
        "colab": {
          "base_uri": "https://localhost:8080/"
        },
        "id": "5M5uOqdMkPKm",
        "outputId": "584329a0-f940-4869-f4bf-d72708654186"
      },
      "source": [
        "bar.ndim"
      ],
      "execution_count": null,
      "outputs": [
        {
          "output_type": "execute_result",
          "data": {
            "text/plain": [
              "2"
            ]
          },
          "metadata": {},
          "execution_count": 211
        }
      ]
    },
    {
      "cell_type": "code",
      "metadata": {
        "colab": {
          "base_uri": "https://localhost:8080/"
        },
        "id": "5AgwXO86kUAF",
        "outputId": "4eda9882-4249-49c2-e3f1-8c6f30443b6d"
      },
      "source": [
        "bar.shape"
      ],
      "execution_count": null,
      "outputs": [
        {
          "output_type": "execute_result",
          "data": {
            "text/plain": [
              "(2, 4)"
            ]
          },
          "metadata": {},
          "execution_count": 212
        }
      ]
    },
    {
      "cell_type": "code",
      "metadata": {
        "colab": {
          "base_uri": "https://localhost:8080/"
        },
        "id": "H-k5bZ1DlWH_",
        "outputId": "63e181c3-c880-4cd1-f9f6-c7de9b5dd95e"
      },
      "source": [
        "bar[0][0]"
      ],
      "execution_count": null,
      "outputs": [
        {
          "output_type": "execute_result",
          "data": {
            "text/plain": [
              "1"
            ]
          },
          "metadata": {},
          "execution_count": 213
        }
      ]
    },
    {
      "cell_type": "code",
      "metadata": {
        "colab": {
          "base_uri": "https://localhost:8080/"
        },
        "id": "Jm67y92alJYg",
        "outputId": "fbe00ad1-4766-45ff-8b40-d69efadc888c"
      },
      "source": [
        "bar[:1]"
      ],
      "execution_count": null,
      "outputs": [
        {
          "output_type": "execute_result",
          "data": {
            "text/plain": [
              "array([[1, 2, 3, 4]])"
            ]
          },
          "metadata": {},
          "execution_count": 214
        }
      ]
    },
    {
      "cell_type": "code",
      "metadata": {
        "colab": {
          "base_uri": "https://localhost:8080/"
        },
        "id": "-T5VrSwQlwn_",
        "outputId": "66d2b3e1-af86-4f06-ea0d-19b2a6c8915f"
      },
      "source": [
        "#Vertical is dimension 0, and horizontal, 1.\n",
        "bar.mean(axis=0)\n"
      ],
      "execution_count": null,
      "outputs": [
        {
          "output_type": "execute_result",
          "data": {
            "text/plain": [
              "array([2.5, 3.5, 4.5, 5.5])"
            ]
          },
          "metadata": {},
          "execution_count": 215
        }
      ]
    },
    {
      "cell_type": "code",
      "metadata": {
        "colab": {
          "base_uri": "https://localhost:8080/"
        },
        "id": "zsrKTKN2mOKX",
        "outputId": "8c8964b4-ba36-4013-b83a-7bb706ba024a"
      },
      "source": [
        "bar.mean()"
      ],
      "execution_count": null,
      "outputs": [
        {
          "output_type": "execute_result",
          "data": {
            "text/plain": [
              "4.0"
            ]
          },
          "metadata": {},
          "execution_count": 216
        }
      ]
    },
    {
      "cell_type": "markdown",
      "metadata": {
        "id": "W48dlV4Mm9Rn"
      },
      "source": [
        "## Broadcasting and Vectorized operations\n"
      ]
    },
    {
      "cell_type": "code",
      "metadata": {
        "colab": {
          "base_uri": "https://localhost:8080/"
        },
        "id": "CvD8o3innDLh",
        "outputId": "b75dbce2-631a-4feb-f779-cb989807f157"
      },
      "source": [
        "vec = np.arange(5)\n",
        "vec + 20"
      ],
      "execution_count": null,
      "outputs": [
        {
          "output_type": "execute_result",
          "data": {
            "text/plain": [
              "array([20, 21, 22, 23, 24])"
            ]
          },
          "metadata": {},
          "execution_count": 217
        }
      ]
    },
    {
      "cell_type": "markdown",
      "metadata": {
        "id": "ZgR2beRon10V"
      },
      "source": [
        "## Boolean operations (Masks)"
      ]
    },
    {
      "cell_type": "code",
      "metadata": {
        "colab": {
          "base_uri": "https://localhost:8080/"
        },
        "id": "4Eb1rm3ho8Gj",
        "outputId": "7b521da0-ee66-4933-9f12-6fef93a84185"
      },
      "source": [
        "bol = np.arange(10)\n",
        "bol[bol%2==0]"
      ],
      "execution_count": null,
      "outputs": [
        {
          "output_type": "execute_result",
          "data": {
            "text/plain": [
              "array([0, 2, 4, 6, 8])"
            ]
          },
          "metadata": {},
          "execution_count": 218
        }
      ]
    },
    {
      "cell_type": "code",
      "metadata": {
        "colab": {
          "base_uri": "https://localhost:8080/"
        },
        "id": "8s7iT60Vpvg-",
        "outputId": "397e7663-469b-42ff-a74c-f7b4dfe77a48"
      },
      "source": [
        "bol%2==0"
      ],
      "execution_count": null,
      "outputs": [
        {
          "output_type": "execute_result",
          "data": {
            "text/plain": [
              "array([ True, False,  True, False,  True, False,  True, False,  True,\n",
              "       False])"
            ]
          },
          "metadata": {},
          "execution_count": 219
        }
      ]
    },
    {
      "cell_type": "code",
      "metadata": {
        "colab": {
          "base_uri": "https://localhost:8080/"
        },
        "id": "SKKixOsNpLg_",
        "outputId": "c1154c18-2a7a-464a-f958-55153fd509d4"
      },
      "source": [
        "ranmatrice = np.random.randint(100,size=(3,3))\n",
        "print(ranmatrice)"
      ],
      "execution_count": null,
      "outputs": [
        {
          "output_type": "stream",
          "name": "stdout",
          "text": [
            "[[57 52 74]\n",
            " [ 5 43 92]\n",
            " [ 4 45 48]]\n"
          ]
        }
      ]
    },
    {
      "cell_type": "markdown",
      "metadata": {
        "id": "EEcOAvkSp4n3"
      },
      "source": [
        "Linear Algebra and other functions can been seen in FCC's notebook."
      ]
    },
    {
      "cell_type": "markdown",
      "metadata": {
        "id": "XMwj7IpYqmUa"
      },
      "source": [
        "## Memory"
      ]
    },
    {
      "cell_type": "code",
      "metadata": {
        "colab": {
          "base_uri": "https://localhost:8080/"
        },
        "id": "QfcA8BD2qrmE",
        "outputId": "69521721-11a2-45db-94a8-d15b390eacea"
      },
      "source": [
        "sys.getsizeof(1)\n"
      ],
      "execution_count": null,
      "outputs": [
        {
          "output_type": "execute_result",
          "data": {
            "text/plain": [
              "28"
            ]
          },
          "metadata": {},
          "execution_count": 221
        }
      ]
    },
    {
      "cell_type": "code",
      "metadata": {
        "colab": {
          "base_uri": "https://localhost:8080/"
        },
        "id": "zTEGuwIfq1St",
        "outputId": "73c5789f-188e-4183-88e8-61ad69b6f379"
      },
      "source": [
        "sys.getsizeof(100*100)"
      ],
      "execution_count": null,
      "outputs": [
        {
          "output_type": "execute_result",
          "data": {
            "text/plain": [
              "28"
            ]
          },
          "metadata": {},
          "execution_count": 222
        }
      ]
    },
    {
      "cell_type": "code",
      "metadata": {
        "colab": {
          "base_uri": "https://localhost:8080/"
        },
        "id": "jS_R5aOjq5eV",
        "outputId": "62465534-402b-40e1-e5ea-f26ddd44fa9d"
      },
      "source": [
        "np.dtype(np.int8).itemsize"
      ],
      "execution_count": null,
      "outputs": [
        {
          "output_type": "execute_result",
          "data": {
            "text/plain": [
              "1"
            ]
          },
          "metadata": {},
          "execution_count": 223
        }
      ]
    },
    {
      "cell_type": "code",
      "metadata": {
        "colab": {
          "base_uri": "https://localhost:8080/"
        },
        "id": "nWJaZ_NSrhZ2",
        "outputId": "72d1d61e-fd5f-4a59-f1e7-3abc846bb89c"
      },
      "source": [
        "np.dtype(int).itemsize"
      ],
      "execution_count": null,
      "outputs": [
        {
          "output_type": "execute_result",
          "data": {
            "text/plain": [
              "8"
            ]
          },
          "metadata": {},
          "execution_count": 224
        }
      ]
    },
    {
      "cell_type": "code",
      "metadata": {
        "id": "V_jBzVBJs189"
      },
      "source": [
        ""
      ],
      "execution_count": null,
      "outputs": []
    },
    {
      "cell_type": "code",
      "metadata": {
        "colab": {
          "base_uri": "https://localhost:8080/"
        },
        "id": "V-B_JzBDr0Td",
        "outputId": "ebfde825-24a5-4e0a-f2f6-744a1adc9b46"
      },
      "source": [
        "#Performance comparation\n",
        "listnonumpy = list(range(1000))\n",
        "%time sum([x**2 for x in listnonumpy])"
      ],
      "execution_count": null,
      "outputs": [
        {
          "output_type": "stream",
          "name": "stdout",
          "text": [
            "CPU times: user 494 µs, sys: 0 ns, total: 494 µs\n",
            "Wall time: 502 µs\n"
          ]
        },
        {
          "output_type": "execute_result",
          "data": {
            "text/plain": [
              "332833500"
            ]
          },
          "metadata": {},
          "execution_count": 225
        }
      ]
    },
    {
      "cell_type": "code",
      "metadata": {
        "colab": {
          "base_uri": "https://localhost:8080/"
        },
        "id": "3hKkJpuPsavv",
        "outputId": "2de63394-9fea-4dd9-df87-48fe9afa7199"
      },
      "source": [
        "listnumpy = np.arange(1000)\n",
        "%time np.sum(listnumpy**2)"
      ],
      "execution_count": null,
      "outputs": [
        {
          "output_type": "stream",
          "name": "stdout",
          "text": [
            "CPU times: user 97 µs, sys: 12 µs, total: 109 µs\n",
            "Wall time: 646 µs\n"
          ]
        },
        {
          "output_type": "execute_result",
          "data": {
            "text/plain": [
              "332833500"
            ]
          },
          "metadata": {},
          "execution_count": 226
        }
      ]
    },
    {
      "cell_type": "markdown",
      "metadata": {
        "id": "d2KCBmr1FZUb"
      },
      "source": [
        "# Pandas\n",
        "  Pandas are a library in Python that's helps a lot during data analysis and manipulation.\n",
        "  "
      ]
    },
    {
      "cell_type": "code",
      "metadata": {
        "id": "nQZPEnMrHIO7"
      },
      "source": [
        "import pandas as pd\n"
      ],
      "execution_count": null,
      "outputs": []
    },
    {
      "cell_type": "markdown",
      "metadata": {
        "id": "tQQrA9pNHusp"
      },
      "source": [
        "## Series\n",
        "Series are similar to Dictionaries in python as it'll be shown below, but its orderer like an array."
      ]
    },
    {
      "cell_type": "code",
      "metadata": {
        "colab": {
          "base_uri": "https://localhost:8080/"
        },
        "id": "ksYFwQoWH1Za",
        "outputId": "0d65a882-e84c-4831-fc27-c6009723e7f1"
      },
      "source": [
        "ser = pd.Series([1.75, 1.74, 1.70, 1.71])\n",
        "ser"
      ],
      "execution_count": null,
      "outputs": [
        {
          "output_type": "execute_result",
          "data": {
            "text/plain": [
              "0    1.75\n",
              "1    1.74\n",
              "2    1.70\n",
              "3    1.71\n",
              "dtype: float64"
            ]
          },
          "metadata": {},
          "execution_count": 228
        }
      ]
    },
    {
      "cell_type": "code",
      "metadata": {
        "id": "LsES88kQIXxT"
      },
      "source": [
        "ser.name = 'My friends and mine height:'\n"
      ],
      "execution_count": null,
      "outputs": []
    },
    {
      "cell_type": "code",
      "metadata": {
        "colab": {
          "base_uri": "https://localhost:8080/"
        },
        "id": "ugNaUZXEIjRJ",
        "outputId": "6fd2bd1b-507a-4e00-b0a0-0b9535b8b700"
      },
      "source": [
        "ser.index =(['Me', 'Vini', 'Diogo', 'Fernanda'])\n",
        "ser"
      ],
      "execution_count": null,
      "outputs": [
        {
          "output_type": "execute_result",
          "data": {
            "text/plain": [
              "Me          1.75\n",
              "Vini        1.74\n",
              "Diogo       1.70\n",
              "Fernanda    1.71\n",
              "Name: My friends and mine height:, dtype: float64"
            ]
          },
          "metadata": {},
          "execution_count": 230
        }
      ]
    },
    {
      "cell_type": "code",
      "metadata": {
        "colab": {
          "base_uri": "https://localhost:8080/"
        },
        "id": "NgOhdmhUI7AW",
        "outputId": "a5998d28-2c65-4631-dc33-cd26d4de645a"
      },
      "source": [
        "ser.values"
      ],
      "execution_count": null,
      "outputs": [
        {
          "output_type": "execute_result",
          "data": {
            "text/plain": [
              "array([1.75, 1.74, 1.7 , 1.71])"
            ]
          },
          "metadata": {},
          "execution_count": 231
        }
      ]
    },
    {
      "cell_type": "code",
      "metadata": {
        "colab": {
          "base_uri": "https://localhost:8080/"
        },
        "id": "NZvinuqyI-Ye",
        "outputId": "df528d87-98a2-458c-eb17-24e226c2fe6f"
      },
      "source": [
        "ser['Me']"
      ],
      "execution_count": null,
      "outputs": [
        {
          "output_type": "execute_result",
          "data": {
            "text/plain": [
              "1.75"
            ]
          },
          "metadata": {},
          "execution_count": 232
        }
      ]
    },
    {
      "cell_type": "markdown",
      "metadata": {
        "id": "kzoIks14J0rT"
      },
      "source": [
        "### Indexing"
      ]
    },
    {
      "cell_type": "code",
      "metadata": {
        "colab": {
          "base_uri": "https://localhost:8080/"
        },
        "id": "fZkdHRrRJ3Vf",
        "outputId": "b26986c3-e674-4825-f641-20089cd701c4"
      },
      "source": [
        "#Locate by sequential position\n",
        "ser.iloc[-1]"
      ],
      "execution_count": null,
      "outputs": [
        {
          "output_type": "execute_result",
          "data": {
            "text/plain": [
              "1.71"
            ]
          },
          "metadata": {},
          "execution_count": 233
        }
      ]
    },
    {
      "cell_type": "code",
      "metadata": {
        "colab": {
          "base_uri": "https://localhost:8080/"
        },
        "id": "uFU2pG4hKg-E",
        "outputId": "12858820-c1c1-4a57-e2bc-90a8ba64304c"
      },
      "source": [
        "ser.iloc[[0, 1]]"
      ],
      "execution_count": null,
      "outputs": [
        {
          "output_type": "execute_result",
          "data": {
            "text/plain": [
              "Me      1.75\n",
              "Vini    1.74\n",
              "Name: My friends and mine height:, dtype: float64"
            ]
          },
          "metadata": {},
          "execution_count": 234
        }
      ]
    },
    {
      "cell_type": "code",
      "metadata": {
        "colab": {
          "base_uri": "https://localhost:8080/"
        },
        "id": "nINylxWKKuzE",
        "outputId": "6e31dd44-4d33-497c-e67b-4ab5cbe19774"
      },
      "source": [
        "ser['Me': 'Diogo']"
      ],
      "execution_count": null,
      "outputs": [
        {
          "output_type": "execute_result",
          "data": {
            "text/plain": [
              "Me       1.75\n",
              "Vini     1.74\n",
              "Diogo    1.70\n",
              "Name: My friends and mine height:, dtype: float64"
            ]
          },
          "metadata": {},
          "execution_count": 235
        }
      ]
    },
    {
      "cell_type": "markdown",
      "metadata": {
        "id": "G9lhKLhjLEER"
      },
      "source": [
        "### Conditionals"
      ]
    },
    {
      "cell_type": "code",
      "metadata": {
        "colab": {
          "base_uri": "https://localhost:8080/"
        },
        "id": "MON-XtIiLTto",
        "outputId": "e7ff705d-6bf9-49c2-c875-24123926afb9"
      },
      "source": [
        "ser.size > 2"
      ],
      "execution_count": null,
      "outputs": [
        {
          "output_type": "execute_result",
          "data": {
            "text/plain": [
              "True"
            ]
          },
          "metadata": {},
          "execution_count": 236
        }
      ]
    },
    {
      "cell_type": "code",
      "metadata": {
        "colab": {
          "base_uri": "https://localhost:8080/"
        },
        "id": "z2SfRSyxLdUV",
        "outputId": "e6de1746-5864-44c9-d9fe-c2afc2586591"
      },
      "source": [
        "ser > 1.72"
      ],
      "execution_count": null,
      "outputs": [
        {
          "output_type": "execute_result",
          "data": {
            "text/plain": [
              "Me           True\n",
              "Vini         True\n",
              "Diogo       False\n",
              "Fernanda    False\n",
              "Name: My friends and mine height:, dtype: bool"
            ]
          },
          "metadata": {},
          "execution_count": 237
        }
      ]
    },
    {
      "cell_type": "code",
      "metadata": {
        "colab": {
          "base_uri": "https://localhost:8080/"
        },
        "id": "QtA0U2KILKp1",
        "outputId": "5eff3a74-afe8-4b08-d041-40670f3cce50"
      },
      "source": [
        "ser[ser>ser.mean()]"
      ],
      "execution_count": null,
      "outputs": [
        {
          "output_type": "execute_result",
          "data": {
            "text/plain": [
              "Me      1.75\n",
              "Vini    1.74\n",
              "Name: My friends and mine height:, dtype: float64"
            ]
          },
          "metadata": {},
          "execution_count": 238
        }
      ]
    },
    {
      "cell_type": "markdown",
      "metadata": {
        "id": "Z0B7ewDIMH1i"
      },
      "source": [
        "## Dataframes\n",
        "Its like an Excel table and therefore, an matrice.\n",
        "\n",
        "\n"
      ]
    },
    {
      "cell_type": "code",
      "metadata": {
        "id": "JD9DLItHMpFi"
      },
      "source": [
        "# 'tomfc' means table of my friends' characteristcs\n",
        "tomfc = pd.DataFrame({\n",
        "    'When I first meet':  [0, 0, 15, 15, 15, 15],\n",
        "    'Gender': ['M', 'M', 'M', 'M', 'M', 'F'],\n",
        "    'Favorite Anime': ['Monogatari Series', 'One Piece', 'Kengan Ashura', 'TTGL', 'One Piece', 'Sailor Moon']\n",
        "})"
      ],
      "execution_count": null,
      "outputs": []
    },
    {
      "cell_type": "code",
      "metadata": {
        "colab": {
          "base_uri": "https://localhost:8080/",
          "height": 235
        },
        "id": "nZeV-niIPp5V",
        "outputId": "03635c84-556f-482d-d603-fab881da5e0d"
      },
      "source": [
        "tomfc"
      ],
      "execution_count": null,
      "outputs": [
        {
          "output_type": "execute_result",
          "data": {
            "text/html": [
              "<div>\n",
              "<style scoped>\n",
              "    .dataframe tbody tr th:only-of-type {\n",
              "        vertical-align: middle;\n",
              "    }\n",
              "\n",
              "    .dataframe tbody tr th {\n",
              "        vertical-align: top;\n",
              "    }\n",
              "\n",
              "    .dataframe thead th {\n",
              "        text-align: right;\n",
              "    }\n",
              "</style>\n",
              "<table border=\"1\" class=\"dataframe\">\n",
              "  <thead>\n",
              "    <tr style=\"text-align: right;\">\n",
              "      <th></th>\n",
              "      <th>When I first meet</th>\n",
              "      <th>Gender</th>\n",
              "      <th>Favorite Anime</th>\n",
              "    </tr>\n",
              "  </thead>\n",
              "  <tbody>\n",
              "    <tr>\n",
              "      <th>0</th>\n",
              "      <td>0</td>\n",
              "      <td>M</td>\n",
              "      <td>Monogatari Series</td>\n",
              "    </tr>\n",
              "    <tr>\n",
              "      <th>1</th>\n",
              "      <td>0</td>\n",
              "      <td>M</td>\n",
              "      <td>One Piece</td>\n",
              "    </tr>\n",
              "    <tr>\n",
              "      <th>2</th>\n",
              "      <td>15</td>\n",
              "      <td>M</td>\n",
              "      <td>Kengan Ashura</td>\n",
              "    </tr>\n",
              "    <tr>\n",
              "      <th>3</th>\n",
              "      <td>15</td>\n",
              "      <td>M</td>\n",
              "      <td>TTGL</td>\n",
              "    </tr>\n",
              "    <tr>\n",
              "      <th>4</th>\n",
              "      <td>15</td>\n",
              "      <td>M</td>\n",
              "      <td>One Piece</td>\n",
              "    </tr>\n",
              "    <tr>\n",
              "      <th>5</th>\n",
              "      <td>15</td>\n",
              "      <td>F</td>\n",
              "      <td>Sailor Moon</td>\n",
              "    </tr>\n",
              "  </tbody>\n",
              "</table>\n",
              "</div>"
            ],
            "text/plain": [
              "   When I first meet Gender     Favorite Anime\n",
              "0                  0      M  Monogatari Series\n",
              "1                  0      M          One Piece\n",
              "2                 15      M      Kengan Ashura\n",
              "3                 15      M               TTGL\n",
              "4                 15      M          One Piece\n",
              "5                 15      F        Sailor Moon"
            ]
          },
          "metadata": {},
          "execution_count": 240
        }
      ]
    },
    {
      "cell_type": "code",
      "metadata": {
        "id": "3yMitcdqQQXN"
      },
      "source": [
        "tomfc.index = ['Me', 'Pedro', 'Christian', 'Vini', 'Diogo', 'Fernanda']"
      ],
      "execution_count": null,
      "outputs": []
    },
    {
      "cell_type": "code",
      "metadata": {
        "colab": {
          "base_uri": "https://localhost:8080/",
          "height": 235
        },
        "id": "5qgK1QFBQdvr",
        "outputId": "3251afe8-a5bd-4116-92d2-8466eb8c0ca8"
      },
      "source": [
        "tomfc"
      ],
      "execution_count": null,
      "outputs": [
        {
          "output_type": "execute_result",
          "data": {
            "text/html": [
              "<div>\n",
              "<style scoped>\n",
              "    .dataframe tbody tr th:only-of-type {\n",
              "        vertical-align: middle;\n",
              "    }\n",
              "\n",
              "    .dataframe tbody tr th {\n",
              "        vertical-align: top;\n",
              "    }\n",
              "\n",
              "    .dataframe thead th {\n",
              "        text-align: right;\n",
              "    }\n",
              "</style>\n",
              "<table border=\"1\" class=\"dataframe\">\n",
              "  <thead>\n",
              "    <tr style=\"text-align: right;\">\n",
              "      <th></th>\n",
              "      <th>When I first meet</th>\n",
              "      <th>Gender</th>\n",
              "      <th>Favorite Anime</th>\n",
              "    </tr>\n",
              "  </thead>\n",
              "  <tbody>\n",
              "    <tr>\n",
              "      <th>Me</th>\n",
              "      <td>0</td>\n",
              "      <td>M</td>\n",
              "      <td>Monogatari Series</td>\n",
              "    </tr>\n",
              "    <tr>\n",
              "      <th>Pedro</th>\n",
              "      <td>0</td>\n",
              "      <td>M</td>\n",
              "      <td>One Piece</td>\n",
              "    </tr>\n",
              "    <tr>\n",
              "      <th>Christian</th>\n",
              "      <td>15</td>\n",
              "      <td>M</td>\n",
              "      <td>Kengan Ashura</td>\n",
              "    </tr>\n",
              "    <tr>\n",
              "      <th>Vini</th>\n",
              "      <td>15</td>\n",
              "      <td>M</td>\n",
              "      <td>TTGL</td>\n",
              "    </tr>\n",
              "    <tr>\n",
              "      <th>Diogo</th>\n",
              "      <td>15</td>\n",
              "      <td>M</td>\n",
              "      <td>One Piece</td>\n",
              "    </tr>\n",
              "    <tr>\n",
              "      <th>Fernanda</th>\n",
              "      <td>15</td>\n",
              "      <td>F</td>\n",
              "      <td>Sailor Moon</td>\n",
              "    </tr>\n",
              "  </tbody>\n",
              "</table>\n",
              "</div>"
            ],
            "text/plain": [
              "           When I first meet Gender     Favorite Anime\n",
              "Me                         0      M  Monogatari Series\n",
              "Pedro                      0      M          One Piece\n",
              "Christian                 15      M      Kengan Ashura\n",
              "Vini                      15      M               TTGL\n",
              "Diogo                     15      M          One Piece\n",
              "Fernanda                  15      F        Sailor Moon"
            ]
          },
          "metadata": {},
          "execution_count": 242
        }
      ]
    },
    {
      "cell_type": "code",
      "metadata": {
        "colab": {
          "base_uri": "https://localhost:8080/"
        },
        "id": "uDY2h-08Qi02",
        "outputId": "0b0c79d5-8e0a-4452-e1e6-b82c61acdcd3"
      },
      "source": [
        "tomfc.shape"
      ],
      "execution_count": null,
      "outputs": [
        {
          "output_type": "execute_result",
          "data": {
            "text/plain": [
              "(6, 3)"
            ]
          },
          "metadata": {},
          "execution_count": 243
        }
      ]
    },
    {
      "cell_type": "code",
      "metadata": {
        "colab": {
          "base_uri": "https://localhost:8080/"
        },
        "id": "vQ4kz18wQkQO",
        "outputId": "b632be43-63bf-4986-c2fb-971ee5b3c592"
      },
      "source": [
        "tomfc.info"
      ],
      "execution_count": null,
      "outputs": [
        {
          "output_type": "execute_result",
          "data": {
            "text/plain": [
              "<bound method DataFrame.info of            When I first meet Gender     Favorite Anime\n",
              "Me                         0      M  Monogatari Series\n",
              "Pedro                      0      M          One Piece\n",
              "Christian                 15      M      Kengan Ashura\n",
              "Vini                      15      M               TTGL\n",
              "Diogo                     15      M          One Piece\n",
              "Fernanda                  15      F        Sailor Moon>"
            ]
          },
          "metadata": {},
          "execution_count": 244
        }
      ]
    },
    {
      "cell_type": "code",
      "metadata": {
        "colab": {
          "base_uri": "https://localhost:8080/",
          "height": 297
        },
        "id": "63rwEJeQQyMA",
        "outputId": "39bb7e37-6f97-4b75-c4fd-762bf8ee504c"
      },
      "source": [
        "tomfc.describe()"
      ],
      "execution_count": null,
      "outputs": [
        {
          "output_type": "execute_result",
          "data": {
            "text/html": [
              "<div>\n",
              "<style scoped>\n",
              "    .dataframe tbody tr th:only-of-type {\n",
              "        vertical-align: middle;\n",
              "    }\n",
              "\n",
              "    .dataframe tbody tr th {\n",
              "        vertical-align: top;\n",
              "    }\n",
              "\n",
              "    .dataframe thead th {\n",
              "        text-align: right;\n",
              "    }\n",
              "</style>\n",
              "<table border=\"1\" class=\"dataframe\">\n",
              "  <thead>\n",
              "    <tr style=\"text-align: right;\">\n",
              "      <th></th>\n",
              "      <th>When I first meet</th>\n",
              "    </tr>\n",
              "  </thead>\n",
              "  <tbody>\n",
              "    <tr>\n",
              "      <th>count</th>\n",
              "      <td>6.000000</td>\n",
              "    </tr>\n",
              "    <tr>\n",
              "      <th>mean</th>\n",
              "      <td>10.000000</td>\n",
              "    </tr>\n",
              "    <tr>\n",
              "      <th>std</th>\n",
              "      <td>7.745967</td>\n",
              "    </tr>\n",
              "    <tr>\n",
              "      <th>min</th>\n",
              "      <td>0.000000</td>\n",
              "    </tr>\n",
              "    <tr>\n",
              "      <th>25%</th>\n",
              "      <td>3.750000</td>\n",
              "    </tr>\n",
              "    <tr>\n",
              "      <th>50%</th>\n",
              "      <td>15.000000</td>\n",
              "    </tr>\n",
              "    <tr>\n",
              "      <th>75%</th>\n",
              "      <td>15.000000</td>\n",
              "    </tr>\n",
              "    <tr>\n",
              "      <th>max</th>\n",
              "      <td>15.000000</td>\n",
              "    </tr>\n",
              "  </tbody>\n",
              "</table>\n",
              "</div>"
            ],
            "text/plain": [
              "       When I first meet\n",
              "count           6.000000\n",
              "mean           10.000000\n",
              "std             7.745967\n",
              "min             0.000000\n",
              "25%             3.750000\n",
              "50%            15.000000\n",
              "75%            15.000000\n",
              "max            15.000000"
            ]
          },
          "metadata": {},
          "execution_count": 245
        }
      ]
    },
    {
      "cell_type": "code",
      "metadata": {
        "colab": {
          "base_uri": "https://localhost:8080/"
        },
        "id": "b1OBuaSxQz0S",
        "outputId": "ab719f72-1e44-4c8e-9fad-b7e8866282a2"
      },
      "source": [
        "tomfc.dtypes"
      ],
      "execution_count": null,
      "outputs": [
        {
          "output_type": "execute_result",
          "data": {
            "text/plain": [
              "When I first meet     int64\n",
              "Gender               object\n",
              "Favorite Anime       object\n",
              "dtype: object"
            ]
          },
          "metadata": {},
          "execution_count": 246
        }
      ]
    },
    {
      "cell_type": "markdown",
      "metadata": {
        "id": "Pj61bJVaR1sJ"
      },
      "source": [
        "###Indexing, Selecting, Slicing"
      ]
    },
    {
      "cell_type": "code",
      "metadata": {
        "colab": {
          "base_uri": "https://localhost:8080/"
        },
        "id": "EpeXmnw4R1G1",
        "outputId": "7ceee477-edeb-4246-b748-d6337d67c4e8"
      },
      "source": [
        "tomfc.loc['Me']"
      ],
      "execution_count": null,
      "outputs": [
        {
          "output_type": "execute_result",
          "data": {
            "text/plain": [
              "When I first meet                    0\n",
              "Gender                               M\n",
              "Favorite Anime       Monogatari Series\n",
              "Name: Me, dtype: object"
            ]
          },
          "metadata": {},
          "execution_count": 247
        }
      ]
    },
    {
      "cell_type": "code",
      "metadata": {
        "colab": {
          "base_uri": "https://localhost:8080/"
        },
        "id": "wvKN3AAwSb4o",
        "outputId": "179c909c-5b28-4d38-c845-82e1d890ee83"
      },
      "source": [
        "tomfc['Favorite Anime']"
      ],
      "execution_count": null,
      "outputs": [
        {
          "output_type": "execute_result",
          "data": {
            "text/plain": [
              "Me           Monogatari Series\n",
              "Pedro                One Piece\n",
              "Christian        Kengan Ashura\n",
              "Vini                      TTGL\n",
              "Diogo                One Piece\n",
              "Fernanda           Sailor Moon\n",
              "Name: Favorite Anime, dtype: object"
            ]
          },
          "metadata": {},
          "execution_count": 248
        }
      ]
    },
    {
      "cell_type": "code",
      "metadata": {
        "colab": {
          "base_uri": "https://localhost:8080/"
        },
        "id": "zQnpTHNiS8q2",
        "outputId": "ae564400-c7b9-4d1a-82e9-ebb2d2658173"
      },
      "source": [
        "tomfc.loc['Me': 'Christian', 'Favorite Anime']"
      ],
      "execution_count": null,
      "outputs": [
        {
          "output_type": "execute_result",
          "data": {
            "text/plain": [
              "Me           Monogatari Series\n",
              "Pedro                One Piece\n",
              "Christian        Kengan Ashura\n",
              "Name: Favorite Anime, dtype: object"
            ]
          },
          "metadata": {},
          "execution_count": 249
        }
      ]
    },
    {
      "cell_type": "markdown",
      "metadata": {
        "id": "_xOGNhMaTuR7"
      },
      "source": [
        "### Boolean and dropping\n"
      ]
    },
    {
      "cell_type": "code",
      "metadata": {
        "colab": {
          "base_uri": "https://localhost:8080/"
        },
        "id": "HmNq5iH4T-Pe",
        "outputId": "dc19109f-ab46-43be-acec-5e3550d15ce7"
      },
      "source": [
        "tomfc['When I first meet'] > 14"
      ],
      "execution_count": null,
      "outputs": [
        {
          "output_type": "execute_result",
          "data": {
            "text/plain": [
              "Me           False\n",
              "Pedro        False\n",
              "Christian     True\n",
              "Vini          True\n",
              "Diogo         True\n",
              "Fernanda      True\n",
              "Name: When I first meet, dtype: bool"
            ]
          },
          "metadata": {},
          "execution_count": 250
        }
      ]
    },
    {
      "cell_type": "code",
      "metadata": {
        "colab": {
          "base_uri": "https://localhost:8080/",
          "height": 204
        },
        "id": "IWCSY5MSULJg",
        "outputId": "470c49b4-0c62-4d63-f23d-ca8578b39ff6"
      },
      "source": [
        "tomfc.drop('Me')\n"
      ],
      "execution_count": null,
      "outputs": [
        {
          "output_type": "execute_result",
          "data": {
            "text/html": [
              "<div>\n",
              "<style scoped>\n",
              "    .dataframe tbody tr th:only-of-type {\n",
              "        vertical-align: middle;\n",
              "    }\n",
              "\n",
              "    .dataframe tbody tr th {\n",
              "        vertical-align: top;\n",
              "    }\n",
              "\n",
              "    .dataframe thead th {\n",
              "        text-align: right;\n",
              "    }\n",
              "</style>\n",
              "<table border=\"1\" class=\"dataframe\">\n",
              "  <thead>\n",
              "    <tr style=\"text-align: right;\">\n",
              "      <th></th>\n",
              "      <th>When I first meet</th>\n",
              "      <th>Gender</th>\n",
              "      <th>Favorite Anime</th>\n",
              "    </tr>\n",
              "  </thead>\n",
              "  <tbody>\n",
              "    <tr>\n",
              "      <th>Pedro</th>\n",
              "      <td>0</td>\n",
              "      <td>M</td>\n",
              "      <td>One Piece</td>\n",
              "    </tr>\n",
              "    <tr>\n",
              "      <th>Christian</th>\n",
              "      <td>15</td>\n",
              "      <td>M</td>\n",
              "      <td>Kengan Ashura</td>\n",
              "    </tr>\n",
              "    <tr>\n",
              "      <th>Vini</th>\n",
              "      <td>15</td>\n",
              "      <td>M</td>\n",
              "      <td>TTGL</td>\n",
              "    </tr>\n",
              "    <tr>\n",
              "      <th>Diogo</th>\n",
              "      <td>15</td>\n",
              "      <td>M</td>\n",
              "      <td>One Piece</td>\n",
              "    </tr>\n",
              "    <tr>\n",
              "      <th>Fernanda</th>\n",
              "      <td>15</td>\n",
              "      <td>F</td>\n",
              "      <td>Sailor Moon</td>\n",
              "    </tr>\n",
              "  </tbody>\n",
              "</table>\n",
              "</div>"
            ],
            "text/plain": [
              "           When I first meet Gender Favorite Anime\n",
              "Pedro                      0      M      One Piece\n",
              "Christian                 15      M  Kengan Ashura\n",
              "Vini                      15      M           TTGL\n",
              "Diogo                     15      M      One Piece\n",
              "Fernanda                  15      F    Sailor Moon"
            ]
          },
          "metadata": {},
          "execution_count": 251
        }
      ]
    },
    {
      "cell_type": "code",
      "metadata": {
        "colab": {
          "base_uri": "https://localhost:8080/",
          "height": 235
        },
        "id": "gGdU8ZoiUmHj",
        "outputId": "db706967-b7dc-4e7d-8b3d-45d068140987"
      },
      "source": [
        "tomfc.drop(columns=['Gender', 'When I first meet'])"
      ],
      "execution_count": null,
      "outputs": [
        {
          "output_type": "execute_result",
          "data": {
            "text/html": [
              "<div>\n",
              "<style scoped>\n",
              "    .dataframe tbody tr th:only-of-type {\n",
              "        vertical-align: middle;\n",
              "    }\n",
              "\n",
              "    .dataframe tbody tr th {\n",
              "        vertical-align: top;\n",
              "    }\n",
              "\n",
              "    .dataframe thead th {\n",
              "        text-align: right;\n",
              "    }\n",
              "</style>\n",
              "<table border=\"1\" class=\"dataframe\">\n",
              "  <thead>\n",
              "    <tr style=\"text-align: right;\">\n",
              "      <th></th>\n",
              "      <th>Favorite Anime</th>\n",
              "    </tr>\n",
              "  </thead>\n",
              "  <tbody>\n",
              "    <tr>\n",
              "      <th>Me</th>\n",
              "      <td>Monogatari Series</td>\n",
              "    </tr>\n",
              "    <tr>\n",
              "      <th>Pedro</th>\n",
              "      <td>One Piece</td>\n",
              "    </tr>\n",
              "    <tr>\n",
              "      <th>Christian</th>\n",
              "      <td>Kengan Ashura</td>\n",
              "    </tr>\n",
              "    <tr>\n",
              "      <th>Vini</th>\n",
              "      <td>TTGL</td>\n",
              "    </tr>\n",
              "    <tr>\n",
              "      <th>Diogo</th>\n",
              "      <td>One Piece</td>\n",
              "    </tr>\n",
              "    <tr>\n",
              "      <th>Fernanda</th>\n",
              "      <td>Sailor Moon</td>\n",
              "    </tr>\n",
              "  </tbody>\n",
              "</table>\n",
              "</div>"
            ],
            "text/plain": [
              "              Favorite Anime\n",
              "Me         Monogatari Series\n",
              "Pedro              One Piece\n",
              "Christian      Kengan Ashura\n",
              "Vini                    TTGL\n",
              "Diogo              One Piece\n",
              "Fernanda         Sailor Moon"
            ]
          },
          "metadata": {},
          "execution_count": 252
        }
      ]
    },
    {
      "cell_type": "markdown",
      "metadata": {
        "id": "5v24ZIfBVEUF"
      },
      "source": [
        "###Operations with series\n"
      ]
    },
    {
      "cell_type": "code",
      "metadata": {
        "id": "TAH7DLhxVGxL"
      },
      "source": [
        "minuswifm = pd.Series([-10], index=[\"When I first meet\"])"
      ],
      "execution_count": null,
      "outputs": []
    },
    {
      "cell_type": "code",
      "metadata": {
        "colab": {
          "base_uri": "https://localhost:8080/",
          "height": 235
        },
        "id": "tsgg71EUVqzo",
        "outputId": "56a51c2b-58d7-4f5b-f094-a373242c7294"
      },
      "source": [
        "tomfc + minuswifm"
      ],
      "execution_count": null,
      "outputs": [
        {
          "output_type": "execute_result",
          "data": {
            "text/html": [
              "<div>\n",
              "<style scoped>\n",
              "    .dataframe tbody tr th:only-of-type {\n",
              "        vertical-align: middle;\n",
              "    }\n",
              "\n",
              "    .dataframe tbody tr th {\n",
              "        vertical-align: top;\n",
              "    }\n",
              "\n",
              "    .dataframe thead th {\n",
              "        text-align: right;\n",
              "    }\n",
              "</style>\n",
              "<table border=\"1\" class=\"dataframe\">\n",
              "  <thead>\n",
              "    <tr style=\"text-align: right;\">\n",
              "      <th></th>\n",
              "      <th>Favorite Anime</th>\n",
              "      <th>Gender</th>\n",
              "      <th>When I first meet</th>\n",
              "    </tr>\n",
              "  </thead>\n",
              "  <tbody>\n",
              "    <tr>\n",
              "      <th>Me</th>\n",
              "      <td>NaN</td>\n",
              "      <td>NaN</td>\n",
              "      <td>-10.0</td>\n",
              "    </tr>\n",
              "    <tr>\n",
              "      <th>Pedro</th>\n",
              "      <td>NaN</td>\n",
              "      <td>NaN</td>\n",
              "      <td>-10.0</td>\n",
              "    </tr>\n",
              "    <tr>\n",
              "      <th>Christian</th>\n",
              "      <td>NaN</td>\n",
              "      <td>NaN</td>\n",
              "      <td>5.0</td>\n",
              "    </tr>\n",
              "    <tr>\n",
              "      <th>Vini</th>\n",
              "      <td>NaN</td>\n",
              "      <td>NaN</td>\n",
              "      <td>5.0</td>\n",
              "    </tr>\n",
              "    <tr>\n",
              "      <th>Diogo</th>\n",
              "      <td>NaN</td>\n",
              "      <td>NaN</td>\n",
              "      <td>5.0</td>\n",
              "    </tr>\n",
              "    <tr>\n",
              "      <th>Fernanda</th>\n",
              "      <td>NaN</td>\n",
              "      <td>NaN</td>\n",
              "      <td>5.0</td>\n",
              "    </tr>\n",
              "  </tbody>\n",
              "</table>\n",
              "</div>"
            ],
            "text/plain": [
              "          Favorite Anime Gender  When I first meet\n",
              "Me                   NaN    NaN              -10.0\n",
              "Pedro                NaN    NaN              -10.0\n",
              "Christian            NaN    NaN                5.0\n",
              "Vini                 NaN    NaN                5.0\n",
              "Diogo                NaN    NaN                5.0\n",
              "Fernanda             NaN    NaN                5.0"
            ]
          },
          "metadata": {},
          "execution_count": 254
        }
      ]
    },
    {
      "cell_type": "code",
      "metadata": {
        "colab": {
          "base_uri": "https://localhost:8080/"
        },
        "id": "EKlLLcL6WrRF",
        "outputId": "63ec157d-36cf-4f03-9c4e-18dbd07d6370"
      },
      "source": [
        "tomfc['When I first meet'] + minuswifm"
      ],
      "execution_count": null,
      "outputs": [
        {
          "output_type": "execute_result",
          "data": {
            "text/plain": [
              "Christian           NaN\n",
              "Diogo               NaN\n",
              "Fernanda            NaN\n",
              "Me                  NaN\n",
              "Pedro               NaN\n",
              "Vini                NaN\n",
              "When I first meet   NaN\n",
              "dtype: float64"
            ]
          },
          "metadata": {},
          "execution_count": 255
        }
      ]
    },
    {
      "cell_type": "code",
      "metadata": {
        "colab": {
          "base_uri": "https://localhost:8080/",
          "height": 235
        },
        "id": "JbvlFiPtc0HG",
        "outputId": "72b7d485-a272-42e4-95af-54b429f30854"
      },
      "source": [
        "graduation = pd.Series(['IS', 'EP', 'CC', 'EM', 'EE', 'BT'], index=['Me', 'Pedro', 'Christian', 'Vini', 'Diogo', 'Fernanda'], name='Graduation')\n",
        "tomfc['Graduation'] = graduation\n",
        "tomfc"
      ],
      "execution_count": null,
      "outputs": [
        {
          "output_type": "execute_result",
          "data": {
            "text/html": [
              "<div>\n",
              "<style scoped>\n",
              "    .dataframe tbody tr th:only-of-type {\n",
              "        vertical-align: middle;\n",
              "    }\n",
              "\n",
              "    .dataframe tbody tr th {\n",
              "        vertical-align: top;\n",
              "    }\n",
              "\n",
              "    .dataframe thead th {\n",
              "        text-align: right;\n",
              "    }\n",
              "</style>\n",
              "<table border=\"1\" class=\"dataframe\">\n",
              "  <thead>\n",
              "    <tr style=\"text-align: right;\">\n",
              "      <th></th>\n",
              "      <th>When I first meet</th>\n",
              "      <th>Gender</th>\n",
              "      <th>Favorite Anime</th>\n",
              "      <th>Graduation</th>\n",
              "    </tr>\n",
              "  </thead>\n",
              "  <tbody>\n",
              "    <tr>\n",
              "      <th>Me</th>\n",
              "      <td>0</td>\n",
              "      <td>M</td>\n",
              "      <td>Monogatari Series</td>\n",
              "      <td>IS</td>\n",
              "    </tr>\n",
              "    <tr>\n",
              "      <th>Pedro</th>\n",
              "      <td>0</td>\n",
              "      <td>M</td>\n",
              "      <td>One Piece</td>\n",
              "      <td>EP</td>\n",
              "    </tr>\n",
              "    <tr>\n",
              "      <th>Christian</th>\n",
              "      <td>15</td>\n",
              "      <td>M</td>\n",
              "      <td>Kengan Ashura</td>\n",
              "      <td>CC</td>\n",
              "    </tr>\n",
              "    <tr>\n",
              "      <th>Vini</th>\n",
              "      <td>15</td>\n",
              "      <td>M</td>\n",
              "      <td>TTGL</td>\n",
              "      <td>EM</td>\n",
              "    </tr>\n",
              "    <tr>\n",
              "      <th>Diogo</th>\n",
              "      <td>15</td>\n",
              "      <td>M</td>\n",
              "      <td>One Piece</td>\n",
              "      <td>EE</td>\n",
              "    </tr>\n",
              "    <tr>\n",
              "      <th>Fernanda</th>\n",
              "      <td>15</td>\n",
              "      <td>F</td>\n",
              "      <td>Sailor Moon</td>\n",
              "      <td>BT</td>\n",
              "    </tr>\n",
              "  </tbody>\n",
              "</table>\n",
              "</div>"
            ],
            "text/plain": [
              "           When I first meet Gender     Favorite Anime Graduation\n",
              "Me                         0      M  Monogatari Series         IS\n",
              "Pedro                      0      M          One Piece         EP\n",
              "Christian                 15      M      Kengan Ashura         CC\n",
              "Vini                      15      M               TTGL         EM\n",
              "Diogo                     15      M          One Piece         EE\n",
              "Fernanda                  15      F        Sailor Moon         BT"
            ]
          },
          "metadata": {},
          "execution_count": 256
        }
      ]
    },
    {
      "cell_type": "code",
      "metadata": {
        "colab": {
          "base_uri": "https://localhost:8080/",
          "height": 235
        },
        "id": "kCJoHyvWd3Si",
        "outputId": "0de1976c-0c10-411a-aaac-e61d52effcc8"
      },
      "source": [
        "tomfc['Gender'] = 'H'\n",
        "tomfc"
      ],
      "execution_count": null,
      "outputs": [
        {
          "output_type": "execute_result",
          "data": {
            "text/html": [
              "<div>\n",
              "<style scoped>\n",
              "    .dataframe tbody tr th:only-of-type {\n",
              "        vertical-align: middle;\n",
              "    }\n",
              "\n",
              "    .dataframe tbody tr th {\n",
              "        vertical-align: top;\n",
              "    }\n",
              "\n",
              "    .dataframe thead th {\n",
              "        text-align: right;\n",
              "    }\n",
              "</style>\n",
              "<table border=\"1\" class=\"dataframe\">\n",
              "  <thead>\n",
              "    <tr style=\"text-align: right;\">\n",
              "      <th></th>\n",
              "      <th>When I first meet</th>\n",
              "      <th>Gender</th>\n",
              "      <th>Favorite Anime</th>\n",
              "      <th>Graduation</th>\n",
              "    </tr>\n",
              "  </thead>\n",
              "  <tbody>\n",
              "    <tr>\n",
              "      <th>Me</th>\n",
              "      <td>0</td>\n",
              "      <td>H</td>\n",
              "      <td>Monogatari Series</td>\n",
              "      <td>IS</td>\n",
              "    </tr>\n",
              "    <tr>\n",
              "      <th>Pedro</th>\n",
              "      <td>0</td>\n",
              "      <td>H</td>\n",
              "      <td>One Piece</td>\n",
              "      <td>EP</td>\n",
              "    </tr>\n",
              "    <tr>\n",
              "      <th>Christian</th>\n",
              "      <td>15</td>\n",
              "      <td>H</td>\n",
              "      <td>Kengan Ashura</td>\n",
              "      <td>CC</td>\n",
              "    </tr>\n",
              "    <tr>\n",
              "      <th>Vini</th>\n",
              "      <td>15</td>\n",
              "      <td>H</td>\n",
              "      <td>TTGL</td>\n",
              "      <td>EM</td>\n",
              "    </tr>\n",
              "    <tr>\n",
              "      <th>Diogo</th>\n",
              "      <td>15</td>\n",
              "      <td>H</td>\n",
              "      <td>One Piece</td>\n",
              "      <td>EE</td>\n",
              "    </tr>\n",
              "    <tr>\n",
              "      <th>Fernanda</th>\n",
              "      <td>15</td>\n",
              "      <td>H</td>\n",
              "      <td>Sailor Moon</td>\n",
              "      <td>BT</td>\n",
              "    </tr>\n",
              "  </tbody>\n",
              "</table>\n",
              "</div>"
            ],
            "text/plain": [
              "           When I first meet Gender     Favorite Anime Graduation\n",
              "Me                         0      H  Monogatari Series         IS\n",
              "Pedro                      0      H          One Piece         EP\n",
              "Christian                 15      H      Kengan Ashura         CC\n",
              "Vini                      15      H               TTGL         EM\n",
              "Diogo                     15      H          One Piece         EE\n",
              "Fernanda                  15      H        Sailor Moon         BT"
            ]
          },
          "metadata": {},
          "execution_count": 257
        }
      ]
    },
    {
      "cell_type": "code",
      "metadata": {
        "id": "RYKDEzcDeDzw"
      },
      "source": [
        "tren = tomfc.rename(\n",
        "    columns={\n",
        "        'When I first meet': 'WIFM',\n",
        "        'Gender': 'Sex',\n",
        "        'Graduation': 'Grad'\n",
        "    }, index={ \n",
        "        'Me':'Guilherme'\n",
        "    }\n",
        ")"
      ],
      "execution_count": null,
      "outputs": []
    },
    {
      "cell_type": "code",
      "metadata": {
        "colab": {
          "base_uri": "https://localhost:8080/"
        },
        "id": "d2356ohker3q",
        "outputId": "51a08457-05d4-4cda-af22-32d2a1dd2c11"
      },
      "source": [
        "tren.sum()['WIFM']"
      ],
      "execution_count": null,
      "outputs": [
        {
          "output_type": "execute_result",
          "data": {
            "text/plain": [
              "60"
            ]
          },
          "metadata": {},
          "execution_count": 259
        }
      ]
    }
  ]
}